{
 "cells": [
  {
   "cell_type": "code",
   "execution_count": null,
   "id": "7eede26c",
   "metadata": {},
   "outputs": [],
   "source": [
    "# 패키지 import\n",
    "import pandas as pd\n",
    "import matplotlib.pyplot as plt"
   ]
  },
  {
   "cell_type": "markdown",
   "id": "d4042158",
   "metadata": {},
   "source": [
    "## A. 데이터 전처리 - 데이터 읽어오기\n",
    "\n",
    "- 특정 필드만 Pandas 의 Dataframe 으로 읽어옵니다."
   ]
  },
  {
   "cell_type": "code",
   "execution_count": null,
   "id": "a96bcd50",
   "metadata": {},
   "outputs": [],
   "source": [
    "# CSV 파일 경로 설정\n",
    "csv_file = 'archive/NFLX.csv'\n",
    "\n",
    "# CSV 파일을 DataFrame으로 읽어오기 (특정 필드만 읽어오기)\n",
    "df = pd.read_csv(csv_file, usecols=['Date', 'Open', 'High', 'Low', 'Close'])"
   ]
  },
  {
   "cell_type": "code",
   "execution_count": null,
   "id": "b0c959d9",
   "metadata": {},
   "outputs": [],
   "source": [
    "# DataFrame 출력\n",
    "df"
   ]
  },
  {
   "cell_type": "code",
   "execution_count": null,
   "id": "3f262e48",
   "metadata": {},
   "outputs": [],
   "source": [
    "df.dtypes"
   ]
  },
  {
   "cell_type": "markdown",
   "id": "e478a8b0",
   "metadata": {},
   "source": [
    "## B. 데이터 전처리 – 2021년 이후의 종가 데이터 출력하기\n",
    "- csv 파일을 DataFrame 으로 읽어와 2021년 이후의 데이터만 필터링합니다.\n",
    "- 기본 df['Close'] 타입은 object(문자열) 이므로, Date 형식으로 변환하여 필터링을 진행합니다.\n",
    "- 필터링이 완료된 DataFrame 의 종가 데이터를 Matplotlib 를 사용하여 시각화합니다."
   ]
  },
  {
   "cell_type": "code",
   "execution_count": null,
   "id": "536e0284",
   "metadata": {},
   "outputs": [],
   "source": [
    "# CSV 파일을 DataFrame으로 읽어오기 (특정 필드만 읽어오기)\n",
    "df = pd.read_csv(csv_file, usecols=['Date', 'Open', 'High', 'Low', 'Close'])\n",
    "\n",
    "# 'Date' 컬럼을 날짜 형식으로 변환\n",
    "df['Date'] = pd.to_datetime(df['Date'])\n",
    "\n",
    "# 2021년 이후의 데이터 필터링\n",
    "df = df[df['Date'] >= pd.to_datetime('2021-01-01')]\n",
    "\n",
    "# Matplotlib을 사용하여 종가 데이터 시각화\n",
    "plt.plot(df['Date'], df['Close'])\n",
    "\n",
    "# 그래프 제목 설정\n",
    "plt.title('NFLX Close Price')\n",
    "\n",
    "# x축 레이블 설정\n",
    "plt.xlabel('Date')\n",
    "\n",
    "# y축 레이블 설정\n",
    "plt.ylabel('Close Price')\n",
    "\n",
    "# x축 눈금 라벨 회전 설정\n",
    "plt.xticks(rotation=45)\n",
    "\n",
    "# 그래프 출력\n",
    "plt.show()"
   ]
  },
  {
   "cell_type": "markdown",
   "id": "8b2f49c0",
   "metadata": {},
   "source": [
    "## C. 데이터 분석 – 2021년 이후 최고, 최저가 출력하기\n",
    "- csv 파일을 DataFrame 으로 읽어와 2021년 이후의 데이터만 필터링합니다.\n",
    "- 기본 df['Close'] 타입은 object(문자열) 이므로, Date 형식으로 변환하여 필터링을 진행합니다.\n",
    "- 종가(Close) 필드를 활용하여, 2021년 이후 가장 높은 종가와 가장 낮은 종가를 출력합니다."
   ]
  },
  {
   "cell_type": "code",
   "execution_count": null,
   "id": "0ffa5f95",
   "metadata": {
    "scrolled": false
   },
   "outputs": [],
   "source": [
    "# CSV 파일을 DataFrame으로 읽어오기 (특정 필드만 읽어오기)\n",
    "df = pd.read_csv(csv_file, usecols=['Date', 'Open', 'High', 'Low', 'Close'])\n",
    "\n",
    "# 'Date' 컬럼을 날짜 형식으로 변환\n",
    "df['Date'] = pd.to_datetime(df['Date'])\n",
    "\n",
    "# 2021년 이후의 데이터 필터링\n",
    "df = df[df['Date'] >= pd.to_datetime('2021-01-01')]\n",
    "\n",
    "# 최고가 출력\n",
    "max_price = df['Close'].max()\n",
    "print(\"최고 종가:\", max_price)\n",
    "\n",
    "# 최저가 출력\n",
    "min_price = df['Close'].min()\n",
    "print(\"최저 종가:\", min_price)"
   ]
  },
  {
   "cell_type": "code",
   "execution_count": null,
   "id": "1e131840",
   "metadata": {},
   "outputs": [],
   "source": [
    "print(\"최고 종가:\", max_price)\n",
    "print(\"최저 종가:\", min_price)"
   ]
  },
  {
   "cell_type": "markdown",
   "id": "d2b75eb6",
   "metadata": {},
   "source": [
    "## D. 데이터 분석- 2021년 이후 월 별 평균 종가 출력하기\n",
    "- csv 파일을 DataFrame 으로 읽어와 2021년 이후의 데이터만 필터링합니다.\n",
    "- 기본 df['Close'] 타입은 object(문자열) 이므로, Date 형식으로 변환하여 필터링을 진행합니다.\n",
    "- 월 별로 그룹화하여 평균 종가를 계산한 새로운 DataFrame 을 만듭니다. (groupby 활용)"
   ]
  },
  {
   "cell_type": "code",
   "execution_count": null,
   "id": "21c7252c",
   "metadata": {},
   "outputs": [],
   "source": [
    "# CSV 파일을 DataFrame으로 읽어오기 (특정 필드만 읽어오기)\n",
    "df = pd.read_csv(csv_file, usecols=['Date', 'Open', 'High', 'Low', 'Close'])\n",
    "\n",
    "# 'Date' 컬럼을 날짜 형식으로 변환\n",
    "df['Date'] = pd.to_datetime(df['Date'])\n",
    "\n",
    "# 2021년 이후의 데이터 필터링\n",
    "df = df[df['Date'] >= pd.to_datetime('2021-01-01')]\n",
    "\n",
    "# 월별 평균 종가 계산 (numeric_only=True를 명시적으로 설정)\n",
    "monthly_avg_close = df.groupby(df['Date'].dt.to_period('M')).mean(numeric_only=True)\n",
    "\n",
    "# Date 열이 행으로 변경되었으므로, reset_index 를 통해 열로 다시 변경\n",
    "monthly_avg_close.reset_index(inplace=True)\n",
    "\n",
    "# 'Date' 컬럼을 datetime 형식으로 변환\n",
    "monthly_avg_close['Date'] = monthly_avg_close['Date'].dt.to_timestamp()\n",
    "\n",
    "# 월별 평균 종가 시각화\n",
    "plt.plot(monthly_avg_close['Date'], monthly_avg_close['Close'])\n",
    "plt.title('Monthly Average Close Price')\n",
    "plt.xlabel('Date')\n",
    "plt.ylabel('Average Close Price')\n",
    "plt.xticks(rotation=45)\n",
    "\n",
    "\n",
    "plt.show()"
   ]
  },
  {
   "cell_type": "markdown",
   "id": "d6553bd4",
   "metadata": {},
   "source": [
    "## E. 데이터 시각화 – 2022년 1월 이후 일 별 최고, 최저, 종가 시각화\n",
    "- csv 파일을 DataFrame 으로 읽어와 2021년 이후의 데이터만 필터링합니다.\n",
    "- 기본 df['Close'] 타입은 object(문자열) 이므로, Date 형식으로 변환하여 필터링을 진행합니다.\n",
    "- Matplotlib 를 활용하여 3가지 필드를 한 번에 분석할 수 있도록 시각화합니다."
   ]
  },
  {
   "cell_type": "code",
   "execution_count": null,
   "id": "3d30dbd8",
   "metadata": {},
   "outputs": [],
   "source": [
    "# CSV 파일을 DataFrame으로 읽어오기 (특정 필드만 읽어오기)\n",
    "df = pd.read_csv(csv_file, usecols=['Date', 'Open', 'High', 'Low', 'Close'])\n",
    "\n",
    "# 'Date' 컬럼을 날짜 형식으로 변환\n",
    "df['Date'] = pd.to_datetime(df['Date'])\n",
    "\n",
    "# 2022년 이후의 데이터 필터링\n",
    "df = df[df['Date'] >= pd.to_datetime('2022-01-01')]\n",
    "\n",
    "# 최고가, 최저가, 종가 시각화\n",
    "plt.plot(df['Date'], df['High'], label='High')\n",
    "plt.plot(df['Date'], df['Low'], label='Low')\n",
    "plt.plot(df['Date'], df['Close'], label='Close')\n",
    "plt.title('High, Low, and Close Prices since January 2022')\n",
    "plt.xlabel('Date')\n",
    "plt.ylabel('Price')\n",
    "plt.xticks(rotation=45)\n",
    "plt.legend()\n",
    "\n",
    "\n",
    "plt.show()"
   ]
  }
 ],
 "metadata": {
  "kernelspec": {
   "display_name": "Python 3 (ipykernel)",
   "language": "python",
   "name": "python3"
  },
  "language_info": {
   "codemirror_mode": {
    "name": "ipython",
    "version": 3
   },
   "file_extension": ".py",
   "mimetype": "text/x-python",
   "name": "python",
   "nbconvert_exporter": "python",
   "pygments_lexer": "ipython3",
   "version": "3.10.2"
  }
 },
 "nbformat": 4,
 "nbformat_minor": 5
}
