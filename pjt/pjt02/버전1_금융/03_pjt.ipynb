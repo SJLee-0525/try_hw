{
 "cells": [
  {
   "cell_type": "code",
   "execution_count": 25,
   "metadata": {},
   "outputs": [
    {
     "name": "stdout",
     "output_type": "stream",
     "text": [
      "최고 종가: 691.690002\n",
      "최저 종가: 359.700012\n"
     ]
    }
   ],
   "source": [
    "import csv\n",
    "import pandas as pd\n",
    "import matplotlib.pyplot as plt\n",
    "\n",
    "# pandas를 통해서 파일 가져오기\n",
    "netflix = pd.read_csv('archive/NFLX.csv')\n",
    "# to_datetime을 이용해 필터링이 가능한 형식으로 데이터 타입을 변경 후 조건 변경\n",
    "netflix['Date'] = pd.to_datetime(netflix['Date'])\n",
    "netflix_df_2021 = netflix[netflix['Date'] >= \"2021-01-01\"] \n",
    "\n",
    "# 날짜와 종가만 표시\n",
    "netflix_df_2021 = netflix_df_2021.loc[:, ['Date','Close']]\n",
    "\n",
    "# Close 필드의 최대값, 최저값 확인\n",
    "netflix_max_close = netflix_df_2021['Close'].max()\n",
    "netflix_min_close = netflix_df_2021['Close'].min()\n",
    "\n",
    "print(f'최고 종가: {netflix_max_close}\\n최저 종가: {netflix_min_close}')"
   ]
  }
 ],
 "metadata": {
  "kernelspec": {
   "display_name": "Python 3",
   "language": "python",
   "name": "python3"
  },
  "language_info": {
   "codemirror_mode": {
    "name": "ipython",
    "version": 3
   },
   "file_extension": ".py",
   "mimetype": "text/x-python",
   "name": "python",
   "nbconvert_exporter": "python",
   "pygments_lexer": "ipython3",
   "version": "3.9.13"
  }
 },
 "nbformat": 4,
 "nbformat_minor": 2
}
